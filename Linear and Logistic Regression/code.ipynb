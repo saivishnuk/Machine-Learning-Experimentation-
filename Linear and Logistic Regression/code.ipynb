{
 "cells": [
  {
   "cell_type": "code",
   "execution_count": 2,
   "metadata": {
    "collapsed": true
   },
   "outputs": [],
   "source": [
    "#importing required packages\n",
    "import pandas as pd\n",
    "import numpy as np\n",
    "import matplotlib.pyplot as plt\n",
    "%matplotlib inline\n",
    "import numpy as np\n",
    "from scipy.stats import kurtosis, skew\n",
    "from sklearn import preprocessing,linear_model,metrics\n",
    "from sklearn.model_selection import train_test_split\n",
    "from sklearn.metrics import mean_squared_error, r2_score,accuracy_score,roc_auc_score\n",
    "from sklearn.linear_model import LogisticRegression\n",
    "from sklearn.feature_selection import RFE\n",
    "import statistics\n",
    "import time\n",
    "import random"
   ]
  },
  {
   "cell_type": "markdown",
   "metadata": {},
   "source": [
    "Data Preperation"
   ]
  },
  {
   "cell_type": "code",
   "execution_count": 3,
   "metadata": {
    "scrolled": true
   },
   "outputs": [
    {
     "name": "stdout",
     "output_type": "stream",
     "text": [
      "shape (39644, 61)\n",
      "\n",
      " type of the variables \n",
      " url                                object\n",
      " timedelta                        float64\n",
      " n_tokens_title                   float64\n",
      " n_tokens_content                 float64\n",
      " n_unique_tokens                  float64\n",
      " n_non_stop_words                 float64\n",
      " n_non_stop_unique_tokens         float64\n",
      " num_hrefs                        float64\n",
      " num_self_hrefs                   float64\n",
      " num_imgs                         float64\n",
      " num_videos                       float64\n",
      " average_token_length             float64\n",
      " num_keywords                     float64\n",
      " data_channel_is_lifestyle        float64\n",
      " data_channel_is_entertainment    float64\n",
      " data_channel_is_bus              float64\n",
      " data_channel_is_socmed           float64\n",
      " data_channel_is_tech             float64\n",
      " data_channel_is_world            float64\n",
      " kw_min_min                       float64\n",
      " kw_max_min                       float64\n",
      " kw_avg_min                       float64\n",
      " kw_min_max                       float64\n",
      " kw_max_max                       float64\n",
      " kw_avg_max                       float64\n",
      " kw_min_avg                       float64\n",
      " kw_max_avg                       float64\n",
      " kw_avg_avg                       float64\n",
      " self_reference_min_shares        float64\n",
      " self_reference_max_shares        float64\n",
      "                                   ...   \n",
      " weekday_is_monday                float64\n",
      " weekday_is_tuesday               float64\n",
      " weekday_is_wednesday             float64\n",
      " weekday_is_thursday              float64\n",
      " weekday_is_friday                float64\n",
      " weekday_is_saturday              float64\n",
      " weekday_is_sunday                float64\n",
      " is_weekend                       float64\n",
      " LDA_00                           float64\n",
      " LDA_01                           float64\n",
      " LDA_02                           float64\n",
      " LDA_03                           float64\n",
      " LDA_04                           float64\n",
      " global_subjectivity              float64\n",
      " global_sentiment_polarity        float64\n",
      " global_rate_positive_words       float64\n",
      " global_rate_negative_words       float64\n",
      " rate_positive_words              float64\n",
      " rate_negative_words              float64\n",
      " avg_positive_polarity            float64\n",
      " min_positive_polarity            float64\n",
      " max_positive_polarity            float64\n",
      " avg_negative_polarity            float64\n",
      " min_negative_polarity            float64\n",
      " max_negative_polarity            float64\n",
      " title_subjectivity               float64\n",
      " title_sentiment_polarity         float64\n",
      " abs_title_subjectivity           float64\n",
      " abs_title_sentiment_polarity     float64\n",
      " shares                             int64\n",
      "Length: 61, dtype: object\n"
     ]
    }
   ],
   "source": [
    "#Reading data\n",
    "data=pd.read_csv('OnlineNewsPopularity.csv')\n",
    "print(\"shape\",data.shape)\n",
    "print(\"\\n type of the variables \\n\", data.dtypes)"
   ]
  },
  {
   "cell_type": "code",
   "execution_count": 4,
   "metadata": {},
   "outputs": [
    {
     "data": {
      "text/plain": [
       "0"
      ]
     },
     "execution_count": 4,
     "metadata": {},
     "output_type": "execute_result"
    }
   ],
   "source": [
    "#checking for missing values\n",
    "sum(data.isnull().sum())"
   ]
  },
  {
   "cell_type": "code",
   "execution_count": 5,
   "metadata": {},
   "outputs": [
    {
     "data": {
      "text/plain": [
       "(39644, 59)"
      ]
     },
     "execution_count": 5,
     "metadata": {},
     "output_type": "execute_result"
    }
   ],
   "source": [
    "#remove non-predictive variables\n",
    "data.drop(['url', ' timedelta'], axis=1, inplace=True)\n",
    "data.shape"
   ]
  },
  {
   "cell_type": "code",
   "execution_count": 6,
   "metadata": {
    "collapsed": true
   },
   "outputs": [],
   "source": [
    "#identifying categorical and numerical variables\n",
    "#Shares variables will be the numerical variable\n",
    "categorical_var=[' data_channel_is_lifestyle',' data_channel_is_entertainment',' data_channel_is_bus',\n",
    "             ' data_channel_is_socmed',' data_channel_is_tech',' data_channel_is_world',\n",
    "             ' weekday_is_monday',' weekday_is_tuesday',' weekday_is_wednesday',' weekday_is_thursday',\n",
    "             ' weekday_is_friday',' weekday_is_saturday',' weekday_is_sunday',' is_weekend']\n",
    "\n",
    "data_vars=data.columns.values.tolist()\n",
    "numerical_var=[i for i in data_vars if i not in categorical_var]\n",
    "numerical_var=numerical_var[0:len(numerical_var)-1]"
   ]
  },
  {
   "cell_type": "code",
   "execution_count": 7,
   "metadata": {
    "collapsed": true,
    "scrolled": true
   },
   "outputs": [],
   "source": [
    "#normalizing the numerical variables\n",
    "data_numerical=data[numerical_var]\n",
    "scaler = preprocessing.StandardScaler()\n",
    "scaler.fit(data_numerical)  \n",
    "data_numerical_scaled = pd.DataFrame(scaler.transform(data_numerical))\n",
    "data_numerical_scaled.columns=data_numerical.columns\n",
    "\n",
    "data_catergorical = data[categorical_var]\n",
    "data_catergorical=data_catergorical.astype(object)\n",
    "\n",
    "data2 = pd.concat([data_numerical_scaled,data_catergorical,data[' shares']], axis=1)\n",
    "data2.columns=data.columns"
   ]
  },
  {
   "cell_type": "code",
   "execution_count": 8,
   "metadata": {
    "scrolled": false
   },
   "outputs": [
    {
     "name": "stdout",
     "output_type": "stream",
     "text": [
      "mean :  3395.3801836343455\n",
      "median: 1400.0\n",
      "var  :  135182573.71299252\n",
      "skew :  33.9625997792866\n",
      "kurt :  1832.4413727401281\n"
     ]
    },
    {
     "data": {
      "image/png": "[encoded data removed]",
      "text/plain": [
       "<matplotlib.figure.Figure at 0x18d1fa5ca58>"
      ]
     },
     "metadata": {},
     "output_type": "display_data"
    },
    {
     "data": {
      "image/png": "[encoded data removed]",
      "text/plain": [
       "<matplotlib.figure.Figure at 0x18d2b86e4e0>"
      ]
     },
     "metadata": {},
     "output_type": "display_data"
    }
   ],
   "source": [
    "#checking for skewness and kurtosis of the outcome variable (shares)\n",
    "print(\"mean : \", np.mean(data[' shares']))\n",
    "print(\"median:\", np.median(data[' shares']))\n",
    "print(\"var  : \", np.var(data[' shares']))\n",
    "print(\"skew : \",skew(data[' shares']))\n",
    "print(\"kurt : \",kurtosis(data[' shares']))\n",
    "\n",
    "plt.hist(data[' shares'],bins=100)\n",
    "plt.title('Histogram of the shares variable')\n",
    "plt.show()\n",
    "\n",
    "plt.boxplot(data[' shares'])\n",
    "plt.title('Box plot of the shares variable')\n",
    "plt.show()\n"
   ]
  },
  {
   "cell_type": "code",
   "execution_count": 9,
   "metadata": {
    "collapsed": true
   },
   "outputs": [],
   "source": [
    "#dividing data into Predictors(X) and outcome(Y)\n",
    "Y_li=pd.DataFrame(data2[' shares'])\n",
    "X_li=data2.drop([' shares'], axis=1)"
   ]
  },
  {
   "cell_type": "markdown",
   "metadata": {},
   "source": [
    "Defining all required functions"
   ]
  },
  {
   "cell_type": "code",
   "execution_count": 10,
   "metadata": {
    "collapsed": true
   },
   "outputs": [],
   "source": [
    "#Linear regression with Normal Equations\n",
    "def linear_regression(X, Y):\n",
    "    regr = linear_model.LinearRegression()\n",
    "    regr.fit(X, Y)\n",
    "    return regr"
   ]
  },
  {
   "cell_type": "code",
   "execution_count": 11,
   "metadata": {
    "collapsed": true
   },
   "outputs": [],
   "source": [
    "#Linear Regression with Gradient Descent\n",
    "def li_gradient_descent(X, y, theta, alpha, convergence_threshold):\n",
    "    \n",
    "    cost_history=[]\n",
    "    \n",
    "    while 1:\n",
    "        hypothesis = X.dot(theta)\n",
    "        loss = hypothesis-y\n",
    "        gradient = X.T.dot(loss)/len(X)\n",
    "        theta = theta - alpha*gradient\n",
    "        cost=np.sum((X.dot(theta)-y)**2)/2/len(y)\n",
    "        #print(cost)\n",
    "        cost_history.append(cost)\n",
    "        if len(cost_history)>=2:\n",
    "            if cost_history[len(cost_history)-2]-cost_history[len(cost_history)-1]>convergence_threshold: \n",
    "                continue\n",
    "            else: \n",
    "                break\n",
    "        else : continue\n",
    "\n",
    "    return theta, cost_history"
   ]
  },
  {
   "cell_type": "code",
   "execution_count": 12,
   "metadata": {
    "collapsed": true
   },
   "outputs": [],
   "source": [
    "#linear regression evaluation metrics\n",
    "def linear_regression_predict(Y_actual_train, Y_actual_test, Y_pred_train, Y_pred_test):\n",
    "    print(\"\\n R2 score for train/ test \")\n",
    "    print('Train: %.4f' % r2_score(Y_actual_train, Y_pred_train))\n",
    "    print('Test: %.4f' % r2_score(Y_actual_test, Y_pred_test))    \n",
    "    return None "
   ]
  },
  {
   "cell_type": "code",
   "execution_count": 13,
   "metadata": {
    "collapsed": true
   },
   "outputs": [],
   "source": [
    "#Graph of the cost function\n",
    "def cost_graph(cost, title):\n",
    "    plt.plot(cost)\n",
    "    plt.xlabel('Number of iterations')\n",
    "    plt.ylabel('Cost')\n",
    "    plt.title(title)\n",
    "    plt.show()\n",
    "    return None"
   ]
  },
  {
   "cell_type": "code",
   "execution_count": 14,
   "metadata": {
    "collapsed": true
   },
   "outputs": [],
   "source": [
    "#Logistic regression with Normal Equations\n",
    "def logistic_regression(X, Y):\n",
    "    model = LogisticRegression()\n",
    "    model = model.fit(X,Y.astype('int'))\n",
    "    return model"
   ]
  },
  {
   "cell_type": "code",
   "execution_count": 15,
   "metadata": {
    "collapsed": true
   },
   "outputs": [],
   "source": [
    "#logistic regression evaluation metrics\n",
    "def logistic_regression_predict(Y_actual_train, Y_actual_test, Y_pred_train, Y_pred_test):\n",
    "    print(\"train data\")\n",
    "    print(\"Accuracy: {} %\".format(100 - np.mean(np.abs(Y_actual_train.astype('int') - Y_pred_train)) * 100))\n",
    "    print(\"\\nconfusion matrix:\\n\",metrics.confusion_matrix(Y_actual_train.astype('int'), Y_pred_train))\n",
    "    print(\"\\nclassification report:\\n\",metrics.classification_report(Y_actual_train.astype('int'), Y_pred_train))\n",
    "\n",
    "    print(\"test data\")\n",
    "    print(\"Accuracy: {} %\".format(100 - np.mean(np.abs(Y_actual_test.astype('int') - Y_pred_test)) * 100))\n",
    "    print(\"\\nconfusion matrix:\\n\",metrics.confusion_matrix(Y_actual_test.astype('int'), Y_pred_test))\n",
    "    print(\"\\nclassification report:\\n\",metrics.classification_report(Y_actual_test.astype('int'), Y_pred_test))\n",
    "    \n",
    "    return None"
   ]
  },
  {
   "cell_type": "code",
   "execution_count": 17,
   "metadata": {
    "collapsed": true
   },
   "outputs": [],
   "source": [
    "#logistic regression with gradient descent\n",
    "def lo_optimize(w,b,X, Y,learning_rate, convergence_threshold):\n",
    "    costs = []\n",
    "    \n",
    "    while 1:\n",
    "        \n",
    "        m = X.shape[1]\n",
    "    \n",
    "        #forward\n",
    "        z=-1*(np.dot(w.T,X)+b)\n",
    "        A = 1/(1+2.7182818284590451**z)                                   \n",
    "        cost = np.sum(Y*np.log(A.astype(float))+(1-Y)*np.log(1-A.astype(float)))/m*-1                                \n",
    "    \n",
    "        #backward\n",
    "        dw = np.dot(X,((A-Y).T))/m\n",
    "        db = np.sum(A-Y)/m\n",
    "      \n",
    "        w = w-learning_rate*dw\n",
    "        b = b-learning_rate*db\n",
    "       \n",
    "        costs.append(cost)\n",
    "        if len(costs)>=2:\n",
    "            if costs[len(costs)-2]-costs[len(costs)-1]>convergence_threshold: \n",
    "                continue\n",
    "            else: \n",
    "                break\n",
    "        else : continue\n",
    "        \n",
    "    return w, b, costs"
   ]
  },
  {
   "cell_type": "code",
   "execution_count": 18,
   "metadata": {
    "collapsed": true
   },
   "outputs": [],
   "source": [
    "#Logistic Regression Predict function\n",
    "\n",
    "def lo_predict(w, b, X, cutoff):\n",
    "    \n",
    "    m = X.shape[1]\n",
    "    Y_prediction = np.zeros((1,m))\n",
    "    w = w.reshape(X.shape[0], 1)\n",
    "    \n",
    "    z=-1*(np.dot(w.T,X)+b)\n",
    "    A = 1/(1+2.7182818284590451**z)   \n",
    "    \n",
    "    for i in range(A.shape[1]):\n",
    "        Y_prediction=np.where(A>cutoff,1.,0)\n",
    "        \n",
    "    return Y_prediction"
   ]
  },
  {
   "cell_type": "code",
   "execution_count": 19,
   "metadata": {
    "collapsed": true
   },
   "outputs": [],
   "source": [
    "#Logistic Regression Predict probability\n",
    "\n",
    "def lo_predict_prob(w, b, X):\n",
    "    \n",
    "    m = X.shape[1]\n",
    "    Y_prediction = np.zeros((1,m))\n",
    "    w = w.reshape(X.shape[0], 1)\n",
    "    \n",
    "    z=-1*(np.dot(w.T,X)+b)\n",
    "    A = 1/(1+2.7182818284590451**z)   \n",
    "    \n",
    "        \n",
    "    return A"
   ]
  },
  {
   "cell_type": "code",
   "execution_count": 69,
   "metadata": {
    "collapsed": true
   },
   "outputs": [],
   "source": [
    "#The optimal cut off would be where tpr is high and fpr is low\n",
    "def threshold(Y_actual,Y_probs):\n",
    "    \n",
    "    fpr, tpr, threshold = metrics.roc_curve(Y_actual, Y_probs)\n",
    "    roc_auc = metrics.auc(fpr, tpr)\n",
    "\n",
    "\n",
    "    i = np.arange(len(tpr)) # index for df\n",
    "    roc = pd.DataFrame({'fpr' : pd.Series(fpr, index=i),'tpr' : pd.Series(tpr, index = i), '1-fpr' : pd.Series(1-fpr, index = i), 'tf' : pd.Series(tpr - (1-fpr), index = i), 'thresholds' : pd.Series(threshold, index = i)})\n",
    "\n",
    "    th=roc.iloc[(roc.tf-0).abs().argsort()[:1]]\n",
    "    \n",
    "    return np.array(th['thresholds'])[0]"
   ]
  },
  {
   "cell_type": "markdown",
   "metadata": {},
   "source": [
    "# Question 1. For all Features"
   ]
  },
  {
   "cell_type": "markdown",
   "metadata": {},
   "source": [
    "Linear regression with Normal Equations for all the features"
   ]
  },
  {
   "cell_type": "code",
   "execution_count": 21,
   "metadata": {
    "collapsed": true
   },
   "outputs": [],
   "source": [
    "X_train_li, X_test_li, Y_train_li, Y_test_li = train_test_split(X_li, Y_li, test_size=0.3, random_state=42)"
   ]
  },
  {
   "cell_type": "code",
   "execution_count": 22,
   "metadata": {
    "scrolled": true
   },
   "outputs": [
    {
     "name": "stdout",
     "output_type": "stream",
     "text": [
      "linear regression with Normal Equations for all the features\n",
      "Coefficients: \n",
      " [[  2.50169075e+02   5.32793762e+02   1.94363478e+04  -9.11480562e+03\n",
      "   -1.09738630e+04   2.62821726e+02  -2.22221262e+02  -5.26540235e+00\n",
      "    1.12044728e+01  -6.45504565e+02   7.59195478e+00   7.15347110e+01\n",
      "    3.39028035e+02  -7.06500801e+01  -4.41579731e+01  -8.78026319e+01\n",
      "   -3.19463182e+02  -4.54552470e+02  -1.43567113e+03   2.26687297e+03\n",
      "    5.81155417e+02   5.11118697e+02  -5.38211645e+02  -3.57361252e+04\n",
      "   -3.01061390e+04  -3.87282815e+04  -4.03399505e+04  -3.95891238e+04\n",
      "    4.47462971e+02   2.27827576e+02  -4.32618417e+02   1.83675439e+01\n",
      "    4.24353033e+02   3.93297908e+02  -6.32989747e+01  -1.63334049e+02\n",
      "   -2.77902994e+01  -9.85478721e+01   5.94259795e+01  -1.72234887e+02\n",
      "    7.18378347e+01   1.17973053e+02   1.66346815e+02   2.90131307e+01\n",
      "   -5.41506453e+02  -1.00053178e+03  -8.54559967e+02  -5.62502084e+02\n",
      "   -3.65221548e+02  -6.29684651e+02   5.69275582e+14   5.69275582e+14\n",
      "    5.69275582e+14   5.69275582e+14   5.69275582e+14  -1.59491485e+16\n",
      "   -1.59491485e+16   1.65184241e+16]]\n",
      "\n",
      " R2 score for train/ test \n",
      "Train: 0.0239\n",
      "Test: 0.0176\n"
     ]
    }
   ],
   "source": [
    "#linear regression with Normal Equations for all the features\n",
    "regr = linear_regression(X_train_li,Y_train_li)\n",
    "\n",
    "# Make predictions \n",
    "Y_pred_train_li = regr.predict(X_train_li)\n",
    "Y_pred_test_li = regr.predict(X_test_li)\n",
    "\n",
    "print(\"linear regression with Normal Equations for all the features\")\n",
    "print('Coefficients: \\n', regr.coef_)\n",
    "\n",
    "linear_regression_predict(Y_train_li,Y_test_li,Y_pred_train_li,Y_pred_test_li  )"
   ]
  },
  {
   "cell_type": "markdown",
   "metadata": {},
   "source": [
    "Linear Regression with Gradient Descent using all the Features"
   ]
  },
  {
   "cell_type": "code",
   "execution_count": 23,
   "metadata": {
    "collapsed": true
   },
   "outputs": [],
   "source": [
    "#prepating data for linear regression with gradient descent for all the features\n",
    "X_li_gd=X_li.copy()\n",
    "Y_li_gd=Y_li.copy()\n",
    "#adding a column of 1s as intercept to x  and intializing all the parameters to beta\n",
    "X_li_gd['intercept']=1\n",
    "X_li_gd2=np.array(X_li_gd)\n",
    "Y_li_gd2=np.array(Y_li_gd).flatten()\n",
    "theta=np.array([0]*X_li_gd.shape[1])\n",
    "#dividing into test and train\n",
    "X_train_li_gd, X_test_li_gd, Y_train_li_gd, Y_test_li_gd = train_test_split(X_li_gd2, Y_li_gd2, test_size=0.3, random_state=42)"
   ]
  },
  {
   "cell_type": "code",
   "execution_count": 36,
   "metadata": {
    "scrolled": true
   },
   "outputs": [
    {
     "name": "stdout",
     "output_type": "stream",
     "text": [
      "--- 1746.8280565738678 seconds ---\n"
     ]
    }
   ],
   "source": [
    "#hyper paramters\n",
    "start_time = time.time()\n",
    "convergence_threshold = 10\n",
    "alpha = 0.01\n",
    "theta_final, cost_his = li_gradient_descent(X_train_li_gd,Y_train_li_gd,theta,alpha, convergence_threshold)\n",
    "print(\"--- %s seconds ---\" % (time.time() - start_time))"
   ]
  },
  {
   "cell_type": "code",
   "execution_count": 37,
   "metadata": {},
   "outputs": [
    {
     "data": {
      "text/plain": [
       "3091"
      ]
     },
     "execution_count": 37,
     "metadata": {},
     "output_type": "execute_result"
    }
   ],
   "source": [
    "len(cost_his)"
   ]
  },
  {
   "cell_type": "code",
   "execution_count": 39,
   "metadata": {},
   "outputs": [
    {
     "name": "stdout",
     "output_type": "stream",
     "text": [
      "linear regression with gradient descent for all the features\n",
      "cost function\n"
     ]
    },
    {
     "data": {
      "image/png": "[encoded data removed]",
      "text/plain": [
       "<matplotlib.figure.Figure at 0x1dca8b3f748>"
      ]
     },
     "metadata": {},
     "output_type": "display_data"
    },
    {
     "name": "stdout",
     "output_type": "stream",
     "text": [
      "Coefficients: \n",
      " [243.2018299255131 265.8966099399146 45.17820217696311 -28.451556444213065\n",
      " 8.581983277649348 326.4997677532402 -217.2310212060797 17.857154498433662\n",
      " 51.474819735593556 -251.578478132051 145.995336723642 164.48910403586217\n",
      " 188.92309013618433 -23.191855969727445 -108.97695175061449\n",
      " -108.16548896159176 -95.16055914545565 -353.3892709557618\n",
      " -1143.0784436289466 2004.3511652517852 435.3913774390868 277.3340353000956\n",
      " -230.4808159439964 161.1162004243497 14.667607528745375 -323.3869710872427\n",
      " 246.7762867407465 -93.6004745070665 332.8066497644251 114.86134754319939\n",
      " -237.70791027848426 58.916243663186066 -10.441081969594784\n",
      " -49.03040790425735 -56.35080367158005 -95.7670431734815 -96.71024594826004\n",
      " -84.10798679457568 54.07045239405504 -150.73535801036104 51.86512654513573\n",
      " 47.732034660768306 121.1966303031335 52.026507773053076 34.50154626897878\n",
      " -711.7372959386369 -244.35031061360678 283.31551044747266\n",
      " 387.7638024166296 345.65208990711164 816.296533961093 267.9692553313881\n",
      " 430.45331970541326 316.71436417110596 479.1964825865208 467.54861655809157\n",
      " 86.8242990745203 554.3729156326101 2865.0028713881293]\n",
      "\n",
      " R2 score for train/ test \n",
      "Train: 0.0238\n",
      "Test: 0.0189\n"
     ]
    }
   ],
   "source": [
    "print('linear regression with gradient descent for all the features')\n",
    "\n",
    "print(\"cost function\")\n",
    "cost_graph(cost_his,'linear regression with gradient descent for all the features')\n",
    "\n",
    "print('Coefficients: \\n', theta_final)\n",
    "\n",
    "Y_pred_train_li_gd=X_train_li_gd.dot(theta_final)\n",
    "Y_pred_test_li_gd=X_test_li_gd.dot(theta_final)\n",
    "\n",
    "linear_regression_predict(Y_train_li_gd,Y_test_li_gd,Y_pred_train_li_gd,Y_pred_test_li_gd)"
   ]
  },
  {
   "cell_type": "markdown",
   "metadata": {},
   "source": [
    "Logistic regression with Normal Equations for all the features"
   ]
  },
  {
   "cell_type": "code",
   "execution_count": 24,
   "metadata": {},
   "outputs": [
    {
     "name": "stdout",
     "output_type": "stream",
     "text": [
      "split of number of records classified as high shares (1) vs low shares(0)\n",
      " 0    20082\n",
      "1    19562\n",
      "Name:  shares2, dtype: int64\n"
     ]
    }
   ],
   "source": [
    "#Preparing data for Linear regression with Normal Equations for all the features\n",
    "data3=pd.concat([data_numerical_scaled,data_catergorical,data[' shares']], axis=1)\n",
    "\n",
    "#Considering if the number of shares above 1400 as high (denoted by 1) and the rest as low (denoted by 0)\n",
    "#since the shares is skewed, considering a mid point (median) instead of mean\n",
    "data3[' shares2']=np.where(data3[' shares']>1400, 1, 0)\n",
    "Y_lo=data3[' shares2']\n",
    "Y_lo=Y_lo.astype(object)\n",
    "X_lo=data3.drop([' shares2',' shares'], axis=1)\n",
    "print(\"split of number of records classified as high shares (1) vs low shares(0)\\n\",Y_lo.value_counts())"
   ]
  },
  {
   "cell_type": "code",
   "execution_count": 25,
   "metadata": {},
   "outputs": [
    {
     "name": "stdout",
     "output_type": "stream",
     "text": [
      "Box plot of shares inforamtion for data classified as low shares\n"
     ]
    },
    {
     "data": {
      "image/png": "[encoded data removed]",
      "text/plain": [
       "<matplotlib.figure.Figure at 0x18d2b8ad9b0>"
      ]
     },
     "metadata": {},
     "output_type": "display_data"
    },
    {
     "name": "stdout",
     "output_type": "stream",
     "text": [
      "Box plot of shares inforamtion for data classified as high shares\n"
     ]
    },
    {
     "data": {
      "image/png": "[encoded data removed]",
      "text/plain": [
       "<matplotlib.figure.Figure at 0x18d336faac8>"
      ]
     },
     "metadata": {},
     "output_type": "display_data"
    }
   ],
   "source": [
    "data_0=data3[data3[' shares2']==0]\n",
    "data_1=data3[data3[' shares2']==1]\n",
    "print(\"Box plot of shares inforamtion for data classified as low shares\")\n",
    "plt.boxplot(data_0[' shares'])\n",
    "plt.show()\n",
    "print(\"Box plot of shares inforamtion for data classified as high shares\")\n",
    "plt.boxplot(data_1[' shares'].values)\n",
    "plt.show()"
   ]
  },
  {
   "cell_type": "code",
   "execution_count": 26,
   "metadata": {
    "collapsed": true
   },
   "outputs": [],
   "source": [
    "#split of the data\n",
    "X_train_lo, X_test_lo, Y_train_lo, Y_test_lo = train_test_split(X_lo, Y_lo, test_size=0.3, random_state=42)"
   ]
  },
  {
   "cell_type": "code",
   "execution_count": 70,
   "metadata": {},
   "outputs": [
    {
     "name": "stdout",
     "output_type": "stream",
     "text": [
      "LogisticRegression(C=1.0, class_weight=None, dual=False, fit_intercept=True,\n",
      "          intercept_scaling=1, max_iter=100, multi_class='ovr', n_jobs=1,\n",
      "          penalty='l2', random_state=None, solver='liblinear', tol=0.0001,\n",
      "          verbose=0, warm_start=False)\n",
      "\n",
      " threshold for train 0.489632927942\n",
      "\n",
      "\n",
      "train data\n",
      "Accuracy: 65.43063063063063 %\n",
      "\n",
      "confusion matrix:\n",
      " [[9170 4844]\n",
      " [4749 8987]]\n",
      "\n",
      "classification report:\n",
      "              precision    recall  f1-score   support\n",
      "\n",
      "          0       0.66      0.65      0.66     14014\n",
      "          1       0.65      0.65      0.65     13736\n",
      "\n",
      "avg / total       0.65      0.65      0.65     27750\n",
      "\n",
      "test data\n",
      "Accuracy: 64.64604002017825 %\n",
      "\n",
      "confusion matrix:\n",
      " [[3969 2099]\n",
      " [2106 3720]]\n",
      "\n",
      "classification report:\n",
      "              precision    recall  f1-score   support\n",
      "\n",
      "          0       0.65      0.65      0.65      6068\n",
      "          1       0.64      0.64      0.64      5826\n",
      "\n",
      "avg / total       0.65      0.65      0.65     11894\n",
      "\n"
     ]
    }
   ],
   "source": [
    "model=logistic_regression(X_train_lo,Y_train_lo)\n",
    "print(model)\n",
    "Y_probs_trian_lo = model.predict_proba(X_train_lo)\n",
    "Y_probs_test_lo = model.predict_proba(X_test_lo)\n",
    "\n",
    "th_lo=threshold(Y_train_lo, Y_probs_trian_lo[:,1])\n",
    "\n",
    "print(\"\\n threshold for train\",th_lo)\n",
    "print(\"\\n\")\n",
    "\n",
    "logistic_regression_predict(Y_train_lo, Y_test_lo,\n",
    "                            np.where(Y_probs_trian_lo[:,1]>th_lo,1,0), \n",
    "                            np.where(Y_probs_test_lo[:,1]>th_lo,1,0))"
   ]
  },
  {
   "cell_type": "code",
   "execution_count": 80,
   "metadata": {},
   "outputs": [
    {
     "data": {
      "image/png": "[encoded data removed]",
      "text/plain": [
       "<matplotlib.figure.Figure at 0x18d3c1ca2e8>"
      ]
     },
     "metadata": {},
     "output_type": "display_data"
    }
   ],
   "source": [
    "#roc curve to determine the probability\n",
    "fpr, tpr, threshold = metrics.roc_curve(Y_train_lo, Y_probs_trian_lo[:,1])\n",
    "roc_auc = metrics.auc(fpr, tpr)\n",
    "\n",
    "i = np.arange(len(tpr)) # index for df\n",
    "roc = pd.DataFrame({'fpr' : pd.Series(fpr, index=i),'tpr' : pd.Series(tpr, index = i), '1-fpr' : pd.Series(1-fpr, index = i), 'tf' : pd.Series(tpr - (1-fpr), index = i), 'threshold' : pd.Series(threshold, index = i)})\n",
    "roc.iloc[(roc.tf-0).abs().argsort()[:1]]\n",
    "\n",
    "fig, ax = plt.subplots()\n",
    "plt.plot(roc['tpr'])\n",
    "plt.plot(roc['1-fpr'], color = 'red')\n",
    "plt.xlabel('1-False Positive Rate')\n",
    "plt.ylabel('True Positive Rate')\n",
    "plt.title('Receiver operating characteristic')\n",
    "plt.show()\n"
   ]
  },
  {
   "cell_type": "markdown",
   "metadata": {},
   "source": [
    "Logistic regression with Gradient Descent for all the features"
   ]
  },
  {
   "cell_type": "code",
   "execution_count": 28,
   "metadata": {
    "collapsed": true
   },
   "outputs": [],
   "source": [
    "#preparing data\n",
    "X_train_lo_gd=np.array(X_train_lo.T)\n",
    "Y_train_lo_gd=np.array(Y_train_lo.T)\n",
    "X_test_lo_gd=np.array(X_test_lo.T)\n",
    "Y_test_lo_gd=np.array(Y_test_lo.T)"
   ]
  },
  {
   "cell_type": "code",
   "execution_count": 31,
   "metadata": {
    "collapsed": true
   },
   "outputs": [],
   "source": [
    "#hyper paramters of logistic regression\n",
    "w = np.zeros((X_train_lo_gd.shape[0],1))\n",
    "b = 0\n",
    "covergence_threshold=0.000001\n",
    "learning_rate=0.01\n",
    "w, b, costs_lo=lo_optimize(w,b,X_train_lo_gd, Y_train_lo_gd, learning_rate, covergence_threshold )"
   ]
  },
  {
   "cell_type": "code",
   "execution_count": null,
   "metadata": {},
   "outputs": [],
   "source": [
    "#prediction    \n",
    "Y_probs_train_lo_gd=lo_predict_prob(w, b, X_train_lo_gd)\n",
    "Y_probs_test_lo_gd=lo_predict_prob(w, b, X_test_lo_gd)    "
   ]
  },
  {
   "cell_type": "code",
   "execution_count": 34,
   "metadata": {
    "scrolled": false
   },
   "outputs": [
    {
     "name": "stdout",
     "output_type": "stream",
     "text": [
      "logistic regression with gradient descent for all the features\n",
      "cost function\n"
     ]
    },
    {
     "data": {
      "image/png": "[encoded data removed]",
      "text/plain": [
       "<matplotlib.figure.Figure at 0x262be663f60>"
      ]
     },
     "metadata": {},
     "output_type": "display_data"
    },
    {
     "name": "stdout",
     "output_type": "stream",
     "text": [
      "\n",
      " threshold for train 0.4936280352116201\n",
      "\n",
      "\n",
      "train data\n",
      "Accuracy: 65.18558558558559 %\n",
      "\n",
      "confusion matrix:\n",
      " [[9135 4879]\n",
      " [4782 8954]]\n",
      "\n",
      "classification report:\n",
      "              precision    recall  f1-score   support\n",
      "\n",
      "          0       0.66      0.65      0.65     14014\n",
      "          1       0.65      0.65      0.65     13736\n",
      "\n",
      "avg / total       0.65      0.65      0.65     27750\n",
      "\n",
      "test data\n",
      "Accuracy: 64.04910038674961 %\n",
      "\n",
      "confusion matrix:\n",
      " [[3930 2138]\n",
      " [2138 3688]]\n",
      "\n",
      "classification report:\n",
      "              precision    recall  f1-score   support\n",
      "\n",
      "          0       0.65      0.65      0.65      6068\n",
      "          1       0.63      0.63      0.63      5826\n",
      "\n",
      "avg / total       0.64      0.64      0.64     11894\n",
      "\n"
     ]
    }
   ],
   "source": [
    "print('logistic regression with gradient descent for all the features')\n",
    "\n",
    "print(\"cost function\")\n",
    "cost_graph(costs_lo,'logistic regression with gradient descent for all the features')\n",
    "\n",
    "th_lo_gd=threshold(Y_train_lo_gd, Y_probs_train_lo_gd.flatten())\n",
    "print(\"\\n threshold for train\",th_lo_gd)\n",
    "\n",
    "print(\"\\n\")\n",
    "logistic_regression_predict(Y_train_lo_gd,\n",
    "                            Y_test_lo_gd,\n",
    "                            np.where(Y_probs_train_lo_gd.flatten()>th_lo_gd,1,0),\n",
    "                            np.where(Y_probs_test_lo_gd.flatten()>th_lo_gd,1,0))\n"
   ]
  },
  {
   "cell_type": "markdown",
   "metadata": {},
   "source": [
    "# Question 2: Ten Random Ten Features "
   ]
  },
  {
   "cell_type": "markdown",
   "metadata": {},
   "source": [
    "Linear Regression with Normal Equations for ten random features"
   ]
  },
  {
   "cell_type": "code",
   "execution_count": 52,
   "metadata": {},
   "outputs": [
    {
     "data": {
      "text/plain": [
       "[14, 23, 24, 8, 12, 45, 2, 5, 54, 15]"
      ]
     },
     "execution_count": 52,
     "metadata": {},
     "output_type": "execute_result"
    }
   ],
   "source": [
    "#Generate ten random numbers list\n",
    "random.seed(8)\n",
    "list=random.sample(range(58), 10)\n",
    "list"
   ]
  },
  {
   "cell_type": "code",
   "execution_count": 53,
   "metadata": {},
   "outputs": [
    {
     "data": {
      "text/plain": [
       "Index([' data_channel_is_socmed', ' kw_min_avg', ' kw_max_avg', ' num_videos',\n",
       "       ' data_channel_is_entertainment', ' global_rate_negative_words',\n",
       "       ' n_unique_tokens', ' num_hrefs', ' title_subjectivity',\n",
       "       ' data_channel_is_tech'],\n",
       "      dtype='object')"
      ]
     },
     "execution_count": 53,
     "metadata": {},
     "output_type": "execute_result"
    }
   ],
   "source": [
    "X_train_li.iloc[:,list].columns"
   ]
  },
  {
   "cell_type": "code",
   "execution_count": 54,
   "metadata": {
    "collapsed": true
   },
   "outputs": [],
   "source": [
    "X_train_li_tenran=X_train_li.iloc[:,list]\n",
    "X_test_li_tenran=X_test_li.iloc[:,list]\n",
    "Y_train_li_tenran=Y_train_li\n",
    "Y_test_li_tenran=Y_test_li"
   ]
  },
  {
   "cell_type": "code",
   "execution_count": 55,
   "metadata": {},
   "outputs": [
    {
     "name": "stdout",
     "output_type": "stream",
     "text": [
      "Coefficients: \n",
      " [[  54.87257624  -32.29022903   38.19354265  249.20118903  374.54796727\n",
      "  -613.59021891   13.31566846  504.31494152  -16.22426426   29.04161384]]\n",
      "\n",
      " R2 score for train/ test \n",
      "Train: 0.0043\n",
      "Test: 0.0027\n"
     ]
    }
   ],
   "source": [
    "#linear regression with Normal Equations \n",
    "regr_tenran = linear_regression(X_train_li_tenran,Y_train_li_tenran)\n",
    "\n",
    "# Make predictions \n",
    "Y_pred_train_li_tenran = regr_tenran.predict(X_train_li_tenran)\n",
    "Y_pred_test_li_tenran = regr_tenran.predict(X_test_li_tenran)\n",
    "\n",
    "print('Coefficients: \\n', regr_tenran.coef_)\n",
    "\n",
    "linear_regression_predict(Y_train_li_tenran,Y_test_li_tenran,Y_pred_train_li_tenran,Y_pred_test_li_tenran)"
   ]
  },
  {
   "cell_type": "markdown",
   "metadata": {},
   "source": [
    "Linear Regression with Gradient Descent using ten random Features"
   ]
  },
  {
   "cell_type": "code",
   "execution_count": 56,
   "metadata": {},
   "outputs": [
    {
     "data": {
      "text/plain": [
       "[14, 23, 24, 8, 12, 45, 2, 5, 54, 15, 58]"
      ]
     },
     "execution_count": 56,
     "metadata": {},
     "output_type": "execute_result"
    }
   ],
   "source": [
    "list.append(X_train_li_gd.shape[1]-1)\n",
    "list"
   ]
  },
  {
   "cell_type": "code",
   "execution_count": 57,
   "metadata": {
    "collapsed": true
   },
   "outputs": [],
   "source": [
    "X_train_li_tenran_gd=X_train_li_gd[:,list]\n",
    "X_test_li_tenran_gd=X_test_li_gd[:,list]\n",
    "Y_train_li_tenran_gd=Y_train_li_gd\n",
    "Y_test_li_tenran_gd=Y_test_li_gd\n",
    "theta_gd=np.array([0]*X_test_li_tenran_gd.shape[1])"
   ]
  },
  {
   "cell_type": "code",
   "execution_count": 59,
   "metadata": {},
   "outputs": [
    {
     "name": "stdout",
     "output_type": "stream",
     "text": [
      "--- 34.99945116043091 seconds ---\n"
     ]
    }
   ],
   "source": [
    "#hyper paramters\n",
    "start_time = time.time()\n",
    "convergence_threshold = 1\n",
    "alpha = 0.1\n",
    "theta_final_gd, cost_his_gd = li_gradient_descent(X_train_li_tenran_gd,Y_train_li_tenran_gd,theta_gd,alpha, convergence_threshold)\n",
    "print(\"--- %s seconds ---\" % (time.time() - start_time))"
   ]
  },
  {
   "cell_type": "code",
   "execution_count": 60,
   "metadata": {},
   "outputs": [
    {
     "data": {
      "text/plain": [
       "427"
      ]
     },
     "execution_count": 60,
     "metadata": {},
     "output_type": "execute_result"
    }
   ],
   "source": [
    "len(cost_his_gd)"
   ]
  },
  {
   "cell_type": "code",
   "execution_count": 62,
   "metadata": {},
   "outputs": [
    {
     "name": "stdout",
     "output_type": "stream",
     "text": [
      "linear regression with gradient descent \n",
      "cost function\n"
     ]
    },
    {
     "data": {
      "image/png": "[encoded data removed]",
      "text/plain": [
       "<matplotlib.figure.Figure at 0x18d336e9080>"
      ]
     },
     "metadata": {},
     "output_type": "display_data"
    },
    {
     "name": "stdout",
     "output_type": "stream",
     "text": [
      "Coefficients: \n",
      " [54.81207758617968 -30.946425296639255 29.485935181615197\n",
      " 247.34050663182637 374.69969268282904 -577.6587414096218\n",
      " 13.148081030927772 504.14127333958237 -11.174932973850266\n",
      " 28.536273201552067 3477.3639365174477]\n",
      "\n",
      " R2 score for train/ test \n",
      "Train: 0.0043\n",
      "Test: 0.0027\n"
     ]
    }
   ],
   "source": [
    "print('linear regression with gradient descent ')\n",
    "\n",
    "print(\"cost function\")\n",
    "cost_graph(cost_his_gd,'linear regression with gradient descent for random features')\n",
    "\n",
    "print('Coefficients: \\n', theta_final_gd)\n",
    "\n",
    "Y_pred_train_li_tenran_gd=X_train_li_tenran_gd.dot(theta_final_gd)\n",
    "Y_pred_test_li_tenran_gd=X_test_li_tenran_gd.dot(theta_final_gd)\n",
    "\n",
    "linear_regression_predict(Y_train_li_tenran_gd,Y_test_li_tenran_gd,Y_pred_train_li_tenran_gd,Y_pred_test_li_tenran_gd)"
   ]
  },
  {
   "cell_type": "markdown",
   "metadata": {},
   "source": [
    "Logistic regression with Normal Equations for ten random features"
   ]
  },
  {
   "cell_type": "code",
   "execution_count": 36,
   "metadata": {
    "collapsed": true
   },
   "outputs": [],
   "source": [
    "X_train_lo_tenran=X_train_li_tenran.copy()\n",
    "X_test_lo_tenran=X_test_li_tenran.copy()\n",
    "Y_train_lo_tenran=Y_train_lo.copy()\n",
    "Y_test_lo_tenran=Y_test_lo.copy()"
   ]
  },
  {
   "cell_type": "code",
   "execution_count": 37,
   "metadata": {},
   "outputs": [
    {
     "name": "stdout",
     "output_type": "stream",
     "text": [
      "\n",
      " threshold for train 0.498186837737\n",
      "\n",
      "\n",
      "train data\n",
      "Accuracy: 56.129729729729725 %\n",
      "\n",
      "confusion matrix:\n",
      " [[7867 6147]\n",
      " [6027 7709]]\n",
      "\n",
      "classification report:\n",
      "              precision    recall  f1-score   support\n",
      "\n",
      "          0       0.57      0.56      0.56     14014\n",
      "          1       0.56      0.56      0.56     13736\n",
      "\n",
      "avg / total       0.56      0.56      0.56     27750\n",
      "\n",
      "test data\n",
      "Accuracy: 55.91054313099041 %\n",
      "\n",
      "confusion matrix:\n",
      " [[3377 2691]\n",
      " [2553 3273]]\n",
      "\n",
      "classification report:\n",
      "              precision    recall  f1-score   support\n",
      "\n",
      "          0       0.57      0.56      0.56      6068\n",
      "          1       0.55      0.56      0.56      5826\n",
      "\n",
      "avg / total       0.56      0.56      0.56     11894\n",
      "\n"
     ]
    }
   ],
   "source": [
    "model=logistic_regression(X_train_lo_tenran,Y_train_lo_tenran)\n",
    "\n",
    "Y_probs_trian_lo_tenran = model.predict_proba(X_train_lo_tenran)\n",
    "Y_probs_test_lo_tenran = model.predict_proba(X_test_lo_tenran)\n",
    "\n",
    "th_lo_tenran=threshold(Y_train_lo_tenran, Y_probs_trian_lo_tenran[:,1])\n",
    "\n",
    "print(\"\\n threshold for train\",th_lo_tenran)\n",
    "print(\"\\n\")\n",
    "\n",
    "logistic_regression_predict(Y_train_lo_tenran, Y_test_lo_tenran,\n",
    "                            np.where(Y_probs_trian_lo_tenran[:,1]>th_lo_tenran,1,0), \n",
    "                            np.where(Y_probs_test_lo_tenran[:,1]>th_lo_tenran,1,0))"
   ]
  },
  {
   "cell_type": "markdown",
   "metadata": {},
   "source": [
    "Logistic regression with Gradient Descent for ten random features"
   ]
  },
  {
   "cell_type": "code",
   "execution_count": 38,
   "metadata": {
    "collapsed": true
   },
   "outputs": [],
   "source": [
    "#preparing data\n",
    "X_train_lo_tenran_gd=np.array(X_train_lo_tenran.T)\n",
    "Y_train_lo_tenran_gd=np.array(Y_train_lo_tenran.T)\n",
    "X_test_lo_tenran_gd=np.array(X_test_lo_tenran.T)\n",
    "Y_test_lo_tenran_gd=np.array(Y_test_lo_tenran.T)"
   ]
  },
  {
   "cell_type": "code",
   "execution_count": 278,
   "metadata": {
    "collapsed": true
   },
   "outputs": [],
   "source": [
    "#hyper paramters of logistic regression\n",
    "w = np.zeros((X_train_lo_tenran_gd.shape[0],1))\n",
    "b = 0\n",
    "covergence_threshold=0.00000001\n",
    "learning_rate=0.01\n",
    "w, b, costs_lo_tenran=lo_optimize(w,b,X_train_lo_tenran_gd, Y_train_lo_tenran_gd, learning_rate, covergence_threshold )"
   ]
  },
  {
   "cell_type": "code",
   "execution_count": 279,
   "metadata": {},
   "outputs": [
    {
     "data": {
      "text/plain": [
       "11704"
      ]
     },
     "execution_count": 279,
     "metadata": {},
     "output_type": "execute_result"
    }
   ],
   "source": [
    "len(costs_lo_tenran)"
   ]
  },
  {
   "cell_type": "code",
   "execution_count": 280,
   "metadata": {
    "collapsed": true
   },
   "outputs": [],
   "source": [
    "Y_probs_train_lo_tenran_gd=lo_predict_prob(w, b, X_train_lo_tenran_gd)\n",
    "Y_probs_test_lo_tenran_gd=lo_predict_prob(w, b, X_test_lo_tenran_gd)    "
   ]
  },
  {
   "cell_type": "code",
   "execution_count": null,
   "metadata": {},
   "outputs": [],
   "source": [
    "print(\"cost function\")\n",
    "cost_graph(costs_lo_tenran,'logistic regression with gradient descent for selected features')\n",
    "\n",
    "th_lo_tenran_gd=threshold(Y_train_lo_tenran_gd, Y_probs_train_lo_tenran_gd.flatten())\n",
    "print(\"\\n threshold for train\",th_lo_tenran_gd)\n",
    "\n",
    "print(\"\\n\")\n",
    "logistic_regression_predict(Y_train_lo_tenran_gd,\n",
    "                            Y_test_lo_tenran_gd,\n",
    "                            np.where(Y_probs_train_lo_tenran_gd.flatten()>th_lo_tenran_gd,1,0),\n",
    "                            np.where(Y_probs_test_lo_tenran_gd.flatten()>th_lo_tenran_gd,1,0))\n",
    "\n"
   ]
  },
  {
   "cell_type": "markdown",
   "metadata": {},
   "source": [
    "# Question 3: Ten Selected Features¶"
   ]
  },
  {
   "cell_type": "code",
   "execution_count": 50,
   "metadata": {
    "collapsed": true
   },
   "outputs": [],
   "source": [
    "#variable selection and data preparation\n",
    "X_train_li_tensel=X_train_li.loc[: , [' n_unique_tokens',' n_non_stop_unique_tokens',\n",
    "              ' self_reference_max_shares', ' is_weekend', ' min_positive_polarity', \n",
    "              ' title_sentiment_polarity',' average_token_length', \n",
    "              ' max_negative_polarity', ' num_imgs',' data_channel_is_bus']]\n",
    "X_test_li_tensel=X_test_li.loc[: , [' n_unique_tokens',' n_non_stop_unique_tokens',\n",
    "              ' self_reference_max_shares', ' is_weekend', ' min_positive_polarity', \n",
    "              ' title_sentiment_polarity',' average_token_length', \n",
    "              ' max_negative_polarity', ' num_imgs',' data_channel_is_bus']]\n",
    "Y_train_li_tensel=Y_train_li\n",
    "Y_test_li_tensel=Y_test_li"
   ]
  },
  {
   "cell_type": "markdown",
   "metadata": {},
   "source": [
    "Linear Regression with Normal Equations for ten selected features"
   ]
  },
  {
   "cell_type": "code",
   "execution_count": 51,
   "metadata": {},
   "outputs": [
    {
     "name": "stdout",
     "output_type": "stream",
     "text": [
      "Coefficients: \n",
      " [[ 21351.69914882 -21348.54542169   -209.46786886    201.27091144\n",
      "   -1233.88810286    759.76480047   -191.49924079   -190.45166014\n",
      "     205.34838624    371.26914513]]\n",
      "\n",
      " R2 score for train/ test \n",
      "Train: 0.0072\n",
      "Test: 0.0045\n"
     ]
    }
   ],
   "source": [
    "\n",
    "regr_tensel = linear_regression(X_train_li_tensel,Y_train_li_tensel)\n",
    "\n",
    "# Make predictions \n",
    "Y_pred_train_li_tensel = regr_tensel.predict(X_train_li_tensel)\n",
    "Y_pred_test_li_tensel = regr_tensel.predict(X_test_li_tensel)\n",
    "\n",
    "print('Coefficients: \\n', regr_tensel.coef_)\n",
    "\n",
    "linear_regression_predict(Y_train_li_tensel,Y_test_li_tensel,Y_pred_train_li_tensel,Y_pred_test_li_tensel)"
   ]
  },
  {
   "cell_type": "markdown",
   "metadata": {},
   "source": [
    "Linear Regression with Gradient Descent using ten selected Features"
   ]
  },
  {
   "cell_type": "code",
   "execution_count": 210,
   "metadata": {
    "collapsed": true
   },
   "outputs": [],
   "source": [
    "X_li_gd_tensel=np.array(X_li_gd.loc[: , [' n_unique_tokens',' n_non_stop_unique_tokens',\n",
    "              ' self_reference_max_shares', ' is_weekend', ' min_positive_polarity', \n",
    "              ' title_sentiment_polarity',' average_token_length', \n",
    "              ' max_negative_polarity', ' num_imgs',' data_channel_is_bus','intercept']])\n",
    "Y_li_gd_tensel=np.array(Y_li_gd).flatten()\n",
    "#dividing into test and train\n",
    "X_train_li_tensel_gd, X_test_li_tensel_gd, Y_train_li_tensel_gd, Y_test_li_tensel_gd = train_test_split(X_li_gd_tensel, Y_li_gd_tensel, test_size=0.3, random_state=42)\n",
    "theta_gd_sel=np.array([0]*X_train_li_tensel_gd.shape[1])"
   ]
  },
  {
   "cell_type": "code",
   "execution_count": null,
   "metadata": {},
   "outputs": [],
   "source": [
    "#hyper paramters\n",
    "start_time = time.time()\n",
    "convergence_threshold = 0.1\n",
    "alpha = 0.1\n",
    "theta_final_gd, cost_his_gd_sel = li_gradient_descent(X_train_li_tensel_gd,Y_train_li_tensel_gd,theta_gd_sel,alpha, convergence_threshold)\n",
    "print(\"--- %s seconds ---\" % (time.time() - start_time))"
   ]
  },
  {
   "cell_type": "code",
   "execution_count": null,
   "metadata": {},
   "outputs": [],
   "source": [
    "print('linear regression with gradient descent for selected features')\n",
    "\n",
    "print(\"cost function\")\n",
    "cost_graph(cost_his_gd_sel,'linear regression with gradient descent for selected features')\n",
    "\n",
    "print('Coefficients: \\n', theta_final_gd)\n",
    "\n",
    "Y_pred_train_li_tensel_gd=X_train_li_tensel_gd.dot(theta_final_gd)\n",
    "Y_pred_test_li_tensel_gd=X_test_li_tensel_gd.dot(theta_final_gd)\n",
    "\n",
    "linear_regression_predict(Y_train_li_tensel_gd,Y_test_li_tensel_gd,Y_pred_train_li_tensel_gd,Y_pred_test_li_tensel_gd)"
   ]
  },
  {
   "cell_type": "markdown",
   "metadata": {},
   "source": [
    "Logistic regression with Normal Equations for ten selected features"
   ]
  },
  {
   "cell_type": "code",
   "execution_count": 40,
   "metadata": {
    "collapsed": true
   },
   "outputs": [],
   "source": [
    "X_train_lo_tensel=X_train_li_tensel.copy()\n",
    "X_test_lo_tensel=X_test_li_tensel.copy()\n",
    "Y_train_lo_tensel=Y_train_lo.copy()\n",
    "Y_test_lo_tensel=Y_test_lo.copy()"
   ]
  },
  {
   "cell_type": "code",
   "execution_count": 225,
   "metadata": {},
   "outputs": [
    {
     "name": "stdout",
     "output_type": "stream",
     "text": [
      "\n",
      " threshold for train 0.497374257151\n",
      "\n",
      "\n",
      "train data\n",
      "Accuracy: 58.072072072072075 %\n",
      "\n",
      "confusion matrix:\n",
      " [[8139 5875]\n",
      " [5760 7976]]\n",
      "\n",
      "classification report:\n",
      "              precision    recall  f1-score   support\n",
      "\n",
      "          0       0.59      0.58      0.58     14014\n",
      "          1       0.58      0.58      0.58     13736\n",
      "\n",
      "avg / total       0.58      0.58      0.58     27750\n",
      "\n",
      "test data\n",
      "Accuracy: 57.65932402892214 %\n",
      "\n",
      "confusion matrix:\n",
      " [[3509 2559]\n",
      " [2477 3349]]\n",
      "\n",
      "classification report:\n",
      "              precision    recall  f1-score   support\n",
      "\n",
      "          0       0.59      0.58      0.58      6068\n",
      "          1       0.57      0.57      0.57      5826\n",
      "\n",
      "avg / total       0.58      0.58      0.58     11894\n",
      "\n"
     ]
    }
   ],
   "source": [
    "model=logistic_regression(X_train_lo_tensel,Y_train_lo_tensel)\n",
    "\n",
    "Y_probs_trian_lo_tensel = model.predict_proba(X_train_lo_tensel)\n",
    "Y_probs_test_lo_tensel = model.predict_proba(X_test_lo_tensel)\n",
    "\n",
    "th_lo_tensel=threshold(Y_train_lo_tensel, Y_probs_trian_lo_tensel[:,1])\n",
    "\n",
    "print(\"\\n threshold for train\",th_lo_tensel)\n",
    "print(\"\\n\")\n",
    "\n",
    "logistic_regression_predict(Y_train_lo_tensel, Y_test_lo_tensel,\n",
    "                            np.where(Y_probs_trian_lo_tensel[:,1]>th_lo_tensel,1,0), \n",
    "                            np.where(Y_probs_test_lo_tensel[:,1]>th_lo_tensel,1,0))"
   ]
  },
  {
   "cell_type": "markdown",
   "metadata": {},
   "source": [
    "Logistic regression with Gradient Descent for selected features"
   ]
  },
  {
   "cell_type": "code",
   "execution_count": 129,
   "metadata": {
    "collapsed": true
   },
   "outputs": [],
   "source": [
    "#preparing data\n",
    "X_train_lo_tensel_gd=np.array(X_train_lo_tensel.T)\n",
    "Y_train_lo_tensel_gd=np.array(Y_train_lo_tensel.T)\n",
    "X_test_lo_tensel_gd=np.array(X_test_lo_tensel.T)\n",
    "Y_test_lo_tensel_gd=np.array(Y_test_lo_tensel.T)"
   ]
  },
  {
   "cell_type": "code",
   "execution_count": 226,
   "metadata": {
    "collapsed": true
   },
   "outputs": [],
   "source": [
    "#hyper paramters of logistic regression\n",
    "w = np.zeros((X_train_lo_tensel_gd.shape[0],1))\n",
    "b = 0\n",
    "covergence_threshold=0.000000001\n",
    "learning_rate=0.01\n",
    "w, b, costs_lo_tensel=lo_optimize(w,b,X_train_lo_tensel_gd, Y_train_lo_tensel_gd, learning_rate, covergence_threshold)"
   ]
  },
  {
   "cell_type": "code",
   "execution_count": 227,
   "metadata": {},
   "outputs": [
    {
     "data": {
      "text/plain": [
       "29785"
      ]
     },
     "execution_count": 227,
     "metadata": {},
     "output_type": "execute_result"
    }
   ],
   "source": [
    "len(costs_lo_tensel)"
   ]
  },
  {
   "cell_type": "code",
   "execution_count": 229,
   "metadata": {
    "collapsed": true
   },
   "outputs": [],
   "source": [
    "Y_probs_train_lo_tensel_gd=lo_predict_prob(w, b, X_train_lo_tensel_gd)\n",
    "Y_probs_test_lo_tensel_gd=lo_predict_prob(w, b, X_test_lo_tensel_gd)    "
   ]
  },
  {
   "cell_type": "code",
   "execution_count": 230,
   "metadata": {},
   "outputs": [
    {
     "name": "stdout",
     "output_type": "stream",
     "text": [
      "logistic regression with gradient descent for selected features\n",
      "cost function\n"
     ]
    },
    {
     "data": {
      "image/png": "[encoded data removed]",
      "text/plain": [
       "<matplotlib.figure.Figure at 0x1dcb90ec320>"
      ]
     },
     "metadata": {},
     "output_type": "display_data"
    },
    {
     "name": "stdout",
     "output_type": "stream",
     "text": [
      "\n",
      " threshold for train 0.4979197694907886\n",
      "\n",
      "\n",
      "train data\n",
      "Accuracy: 58.01801801801802 %\n",
      "\n",
      "confusion matrix:\n",
      " [[8131 5883]\n",
      " [5767 7969]]\n",
      "\n",
      "classification report:\n",
      "              precision    recall  f1-score   support\n",
      "\n",
      "          0       0.59      0.58      0.58     14014\n",
      "          1       0.58      0.58      0.58     13736\n",
      "\n",
      "avg / total       0.58      0.58      0.58     27750\n",
      "\n",
      "test data\n",
      "Accuracy: 57.701362031276275 %\n",
      "\n",
      "confusion matrix:\n",
      " [[3537 2531]\n",
      " [2500 3326]]\n",
      "\n",
      "classification report:\n",
      "              precision    recall  f1-score   support\n",
      "\n",
      "          0       0.59      0.58      0.58      6068\n",
      "          1       0.57      0.57      0.57      5826\n",
      "\n",
      "avg / total       0.58      0.58      0.58     11894\n",
      "\n"
     ]
    }
   ],
   "source": [
    "print('logistic regression with gradient descent for selected features')\n",
    "\n",
    "print(\"cost function\")\n",
    "cost_graph(costs_lo_tensel,'logistic regression with gradient descent for selected features')\n",
    "\n",
    "th_lo_tensel_gd=threshold(Y_train_lo_tensel_gd, Y_probs_train_lo_tensel_gd.flatten())\n",
    "print(\"\\n threshold for train\",th_lo_tensel_gd)\n",
    "\n",
    "print(\"\\n\")\n",
    "logistic_regression_predict(Y_train_lo_tensel_gd,\n",
    "                            Y_test_lo_tensel_gd,\n",
    "                            np.where(Y_probs_train_lo_tensel_gd.flatten()>th_lo_tensel_gd,1,0),\n",
    "                            np.where(Y_probs_test_lo_tensel_gd.flatten()>th_lo_tensel_gd,1,0))\n",
    "\n"
   ]
  }
 ],
 "metadata": {
  "kernelspec": {
   "display_name": "Python 3",
   "language": "python",
   "name": "python3"
  },
  "language_info": {
   "codemirror_mode": {
    "name": "ipython",
    "version": 3
   },
   "file_extension": ".py",
   "mimetype": "text/x-python",
   "name": "python",
   "nbconvert_exporter": "python",
   "pygments_lexer": "ipython3",
   "version": "3.6.1"
  }
 },
 "nbformat": 4,
 "nbformat_minor": 2
}
